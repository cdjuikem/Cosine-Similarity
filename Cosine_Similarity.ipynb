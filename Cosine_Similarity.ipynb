{
 "cells": [
  {
   "cell_type": "markdown",
   "id": "dfa21ccc",
   "metadata": {},
   "source": [
    "## Cours et après Code"
   ]
  },
  {
   "cell_type": "markdown",
   "id": "87127b47",
   "metadata": {},
   "source": [
    "## Cosine similarity\n",
    "\n",
    "La similarité cosinus donne la similarité de deux vecteurs à n dimensions en déterminant le cosinus de leur angle. Ce score est fréquemment utilisé en fouille de textes¹.\n",
    "\n",
    "Soit deux vecteurs **A** et **B**, le cosinus de leur angle θ s'obtient en prenant leur produit scalaire divisé par le produit de leurs normes :\n",
    "\n",
    "$$\\cos \\theta = \\frac{\\mathbf{A} \\cdot \\mathbf{B}}{\\|\\mathbf{A}\\| \\|\\mathbf{B}\\|} $$\n",
    "\n",
    "La valeur d'un cosinus, donc celle calculée ici pour cos θ, est comprise dans l'intervalle \\([-1, 1]\\). La valeur de -1 indique des vecteurs opposés, la valeur de 0 des vecteurs indépendants (orthogonaux) et la valeur de 1 des vecteurs colinéaires de coefficient positif. Les valeurs intermédiaires permettent d'évaluer le degré de similarité.\n",
    "\n",
    "¹ Source: Wikipedia - Cosine similarity\n"
   ]
  },
  {
   "cell_type": "markdown",
   "id": "c1d6e8ac",
   "metadata": {},
   "source": [
    "### Exemple de Calcul du Produit Scalaire et des Normes\n",
    "\n",
    "Considérons deux vecteurs en deux dimensions :\n",
    "\n",
    "$$ \\mathbf{A} = [2, 3] $$\n",
    "$$ \\mathbf{B} = [4, 1] $$\n",
    "\n",
    "#### Calcul du Produit Scalaire\n",
    "\n",
    "Le produit scalaire de deux vecteurs $\\mathbf{A}$ et $\\mathbf{B}$ se calcule en multipliant les composantes correspondantes et en additionnant les résultats :\n",
    "\n",
    "$$ \\mathbf{A} \\cdot \\mathbf{B} = (2 \\times 4) + (3 \\times 1) $$\n",
    "$$ \\mathbf{A} \\cdot \\mathbf{B} = 8 + 3 $$\n",
    "$$ \\mathbf{A} \\cdot \\mathbf{B} = 11 $$\n",
    "\n",
    "Donc, le produit scalaire $\\mathbf{A} \\cdot \\mathbf{B}$ est égal à 11.\n",
    "\n",
    "#### Calcul des Normes des Vecteurs\n",
    "\n",
    "La norme d'un vecteur se calcule en prenant la racine carrée de la somme des carrés de ses composantes.\n",
    "\n",
    "- Norme de $\\mathbf{A}$ :\n",
    "\n",
    "$$ \\|\\mathbf{A}\\| = \\sqrt{2^2 + 3^2} $$\n",
    "$$ \\|\\mathbf{A}\\| = \\sqrt{4 + 9} $$\n",
    "$$ \\|\\mathbf{A}\\| = \\sqrt{13} $$\n",
    "$$ \\|\\mathbf{A}\\| \\approx 3.6056 $$\n",
    "\n",
    "- Norme de \\(\\mathbf{B}\\) :\n",
    "\n",
    "$$ \\|\\mathbf{B}\\| = \\sqrt{4^2 + 1^2} $$\n",
    "$$ \\|\\mathbf{B}\\| = \\sqrt{16 + 1} $$\n",
    "$$ \\|\\mathbf{B}\\| = \\sqrt{17} $$\n",
    "$$ \\|\\mathbf{B}\\| \\approx 4.1231 $$\n",
    "\n",
    "### Conclusion\n",
    "\n",
    "Dans cet exemple, nous avons calculé le produit scalaire entre les vecteurs $\\mathbf{A}$ et $\\mathbf{B}$, qui est égal à 11. Nous avons également calculé les normes des vecteurs $\\mathbf{A}$ et $\\mathbf{B}$, qui sont approximativement 3.6056 et 4.1231 respectivement.\n"
   ]
  },
  {
   "cell_type": "code",
   "execution_count": 30,
   "id": "5e6508b5",
   "metadata": {},
   "outputs": [
    {
     "name": "stdout",
     "output_type": "stream",
     "text": [
      "Vecteur TF-IDF du document 1:\n",
      "[[0.         0.57615236 0.57615236 0.         0.40993715 0.\n",
      "  0.40993715]]\n",
      "Vecteur TF-IDF du document 2:\n",
      "[[0.49922133 0.         0.         0.49922133 0.35520009 0.49922133\n",
      "  0.35520009]]\n",
      "Similarité cosinus: 0.29121941856368966\n"
     ]
    }
   ],
   "source": [
    "from sklearn.feature_extraction.text import TfidfVectorizer\n",
    "from sklearn.metrics.pairwise import cosine_similarity\n",
    "\n",
    "# Documents à comparer\n",
    "document1 = \"Un exemple de document.\"\n",
    "document2 = \"Ce texte est un exemple.\"\n",
    "\n",
    "# Vectorisation des documents ensemble pour obtenir le même vocabulaire\n",
    "vectorizer = TfidfVectorizer()\n",
    "tfidf_matrix = vectorizer.fit_transform([document1, document2])\n",
    "\n",
    "# Affichage des vecteurs TF-IDF pour mieux comprendre\n",
    "print(\"Vecteur TF-IDF du document 1:\")\n",
    "print(tfidf_matrix[0].toarray())\n",
    "print(\"Vecteur TF-IDF du document 2:\")\n",
    "print(tfidf_matrix[1].toarray())\n",
    "\n",
    "# Calcul de la similarité cosinus\n",
    "cosine_sim = cosine_similarity(tfidf_matrix[0], tfidf_matrix[1])\n",
    "print(\"Similarité cosinus:\", cosine_sim[0][0])\n"
   ]
  },
  {
   "cell_type": "code",
   "execution_count": null,
   "id": "0eea161f",
   "metadata": {},
   "outputs": [],
   "source": []
  }
 ],
 "metadata": {
  "kernelspec": {
   "display_name": "Python 3 (ipykernel)",
   "language": "python",
   "name": "python3"
  },
  "language_info": {
   "codemirror_mode": {
    "name": "ipython",
    "version": 3
   },
   "file_extension": ".py",
   "mimetype": "text/x-python",
   "name": "python",
   "nbconvert_exporter": "python",
   "pygments_lexer": "ipython3",
   "version": "3.10.9"
  }
 },
 "nbformat": 4,
 "nbformat_minor": 5
}
